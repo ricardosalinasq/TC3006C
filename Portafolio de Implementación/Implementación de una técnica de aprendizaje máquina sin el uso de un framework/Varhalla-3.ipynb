{
  "nbformat": 4,
  "nbformat_minor": 0,
  "metadata": {
    "colab": {
      "provenance": []
    },
    "kernelspec": {
      "name": "python3",
      "display_name": "Python 3"
    },
    "language_info": {
      "name": "python"
    }
  },
  "cells": [
    {
      "cell_type": "markdown",
      "source": [
        "### **Crea un espacio dentro del repositorio de GitHub que creaste para el portafolio de implementación (por ejemplo, una carpeta para el módulo de ML con una subcarpeta para este entregable).**"
      ],
      "metadata": {
        "id": "M8qLigalrMer"
      }
    },
    {
      "cell_type": "markdown",
      "source": [
        "### **Selecciona uno de los dos primeros 'Challenge' vistos en clase (Week01_Challenge.pdf o Week02_Challenge1.pdf) y programa un algoritmo que permita resolver el problema. Dicho algoritmo debe ser uno de los algoritmos vistos en el módulo (o que tu profesor de módulo autorice), y no puedes usar ninguna biblioteca o framework de aprendizaje máquina, ni de estadística avanzada. Lo que se busca es que implementes manualmente el algoritmo, no que importes un algoritmo ya implementado.**"
      ],
      "metadata": {
        "id": "1n3Gx3dHrbOm"
      }
    },
    {
      "cell_type": "code",
      "source": [
        "\n",
        "#Importaremos las librerias para poder leer el documento\n",
        "import pandas as pd\n",
        "import numpy as np\n",
        "\n",
        "#Haremos uso del primer Challenge, el cual contiene una base de datos llamada Valhalla23.csv, como primer\n",
        "#paso, importaremos este dataset y le asignaremos una variable\n",
        "\n",
        "dataset = pd.read_csv('Valhalla23.csv')\n",
        "\n",
        "\n",
        "#Ahora dividiremos el dataset en dos partes, usando 70% de los datos para nuestra variable train y 30% para la variable test\n",
        "v70 = int(0.7 * len(dataset))\n",
        "v = dataset[:v70]\n",
        "v_test = dataset[v70:]\n",
        "\n",
        "#Ahora asignaremos una variable para cada columna, de esta manera sera mas facil\n",
        "X = v['Celsius']\n",
        "y = v['Valks']\n",
        "\n"
      ],
      "metadata": {
        "id": "boWOhg0TshbL"
      },
      "execution_count": null,
      "outputs": []
    },
    {
      "cell_type": "markdown",
      "source": [
        "### **Divide el set de datos del problema en dos subconjuntos, uno para entrenamiento y otro para prueba. Entrena tu modelo sobre el primer subconjunto, y por un mínimo de 100 iteraciones. Selecciona valores para la tasa de aprendizaje y para los parámetros iniciales, según tu criterio.**"
      ],
      "metadata": {
        "id": "M2QZAKThrmx1"
      }
    },
    {
      "cell_type": "code",
      "source": [
        "#Dividir los datos en conjuntos, uno de test y uno de train para facilitar su uso\n",
        "mitad = len(X) // 2\n",
        "x_train = X[:mitad]\n",
        "x_test = X[mitad:]\n",
        "y_train = y[:mitad]\n",
        "y_test = y[mitad:]\n",
        "\n",
        "#Asignamos valores para ambos tethas y alpha\n",
        "\n",
        "#Para tetha asignaremos valores de 1 para tener valores regulares como punto de partida\n",
        "tetha0 = 1\n",
        "tetha1 = 1\n",
        "\n",
        "#Asignaremos un alpha de 0.0001 para tener un aprendizaje lento pero mas seguro, teniendo como prioridad\n",
        "#la calidad de los datos\n",
        "alpha = 0.0001\n",
        "\n",
        "#Asignamos una variable que indique el numero de iteraciones\n",
        "num_iteraciones = 150000\n",
        "\n",
        "#Declaramos la funcion de hipotesis\n",
        "htetha = lambda tetha0, tetha1, x: tetha0 + (tetha1 * x)\n",
        "\n",
        "#Calcular el total de muestras en el conjunto de prueba (n)\n",
        "n = len(x_train)\n",
        "\n",
        "#Creamos dos variables para poder ir almacenando las iteraciones\n",
        "theta0_values = []\n",
        "theta1_values = []\n",
        "#Iterar el proceso de ajuste de theta0 y theta1\n",
        "for i in range(num_iteraciones):\n",
        "    #Calcular la hipótesis\n",
        "    h0 = htetha(tetha0, tetha1, x_train)\n",
        "\n",
        "    #Calcular los errores para theta0\n",
        "    delta0 = np.subtract(h0, y_train)\n",
        "    delta0t = np.sum(delta0)\n",
        "\n",
        "    #Actualizar theta0\n",
        "    tetha0 = tetha0 - alpha * (delta0t/n)\n",
        "\n",
        "    #Calcular los errores para theta1\n",
        "    deltax = np.multiply(delta0, x_train)\n",
        "    deltaxt = np.sum(deltax)\n",
        "\n",
        "    #Actualizar theta1\n",
        "    tetha1 = tetha1 - alpha * (deltaxt/n)\n",
        "    theta0_values.append(tetha0)\n",
        "    theta1_values.append(tetha1)\n",
        "\n",
        "print(tetha0)\n",
        "print(tetha1)\n"
      ],
      "metadata": {
        "colab": {
          "base_uri": "https://localhost:8080/"
        },
        "id": "lRO15yGAtqvt",
        "outputId": "4c10bc82-96ea-497c-a106-a412dcca86ad"
      },
      "execution_count": null,
      "outputs": [
        {
          "output_type": "stream",
          "name": "stdout",
          "text": [
            "50.31919204538233\n",
            "-2.9853878603624766\n"
          ]
        }
      ]
    },
    {
      "cell_type": "markdown",
      "source": [
        "### **Prueba tu implementación. Para ello, utiliza el modelo entrenado para hacer predecir las salidas del subconjunto de prueba, y compara contra los datos reales en una gráfica.**"
      ],
      "metadata": {
        "id": "hU-0_zq1rsaQ"
      }
    },
    {
      "cell_type": "code",
      "source": [
        "#Importamos la libreria de matplotlib para poder hacer la grafica\n",
        "import matplotlib.pyplot as plt\n",
        "\n",
        "#Utilizamos el modelo entrenado para hacer predicciones\n",
        "y_pred = htetha(tetha0, tetha1, x_test)\n",
        "\n",
        "#Imprimir los valores finales de theta0 y theta1\n",
        "print(\"Valor final de theta0:\")\n",
        "print(tetha0)\n",
        "print(\"Valor final de theta1: \")\n",
        "print(tetha1)\n",
        "\n",
        "plt.figure(figsize=(10, 6))\n",
        "plt.scatter(x_test, y_test, color='blue', label='Valores Reales', marker='o')\n",
        "plt.scatter(x_test, y_pred, color='red', label='Predicciones', marker='o', alpha=0.5)\n",
        "plt.xlabel('Celsius')\n",
        "plt.ylabel('Valks')\n",
        "plt.title('Comparación')\n",
        "plt.legend()\n",
        "plt.grid(True)"
      ],
      "metadata": {
        "colab": {
          "base_uri": "https://localhost:8080/",
          "height": 620
        },
        "id": "BLjYD-dF2vYK",
        "outputId": "2d4c056e-09bd-4064-94ef-30611684b1fb"
      },
      "execution_count": null,
      "outputs": [
        {
          "output_type": "stream",
          "name": "stdout",
          "text": [
            "Valor final de theta0:\n",
            "50.31919204538233\n",
            "Valor final de theta1: \n",
            "-2.9853878603624766\n"
          ]
        },
        {
          "output_type": "display_data",
          "data": {
            "text/plain": [
              "<Figure size 1000x600 with 1 Axes>"
            ],
            "image/png": "[encoded data removed]"
          },
          "metadata": {}
        }
      ]
    },
    {
      "cell_type": "markdown",
      "source": [
        "### **Calcula el valor de la función de costo para el subconjunto de entrenamiento, y para el subconjunto de prueba.**"
      ],
      "metadata": {
        "id": "gV_VJh3zryam"
      }
    },
    {
      "cell_type": "code",
      "source": [
        "#Valores de test y train\n",
        "y_pred_train = htetha(tetha0, tetha1, x_train)\n",
        "y_pred_test = htetha(tetha0, tetha1, x_test)\n",
        "\n",
        "#Calcular la funcion de costo para train\n",
        "mse_train = np.mean((y_train - y_pred_train) ** 2)\n",
        "\n",
        "#Calcular la función de costo para  test\n",
        "mse_test = np.mean((y_test - y_pred_test) ** 2)\n",
        "\n",
        "print(\"Costo de entrenamiento:\")\n",
        "print(mse_train)\n",
        "\n",
        "print(\"\\nCosto de prueba:\")\n",
        "print(mse_test)"
      ],
      "metadata": {
        "colab": {
          "base_uri": "https://localhost:8080/"
        },
        "id": "KqWMmX_j6LpD",
        "outputId": "2dcd6108-a2e5-4c62-cc17-5421d6cb47bf"
      },
      "execution_count": null,
      "outputs": [
        {
          "output_type": "stream",
          "name": "stdout",
          "text": [
            "Costo de entrenamiento:\n",
            "40.057650053697856\n",
            "\n",
            "Costo de prueba:\n",
            "43.23056712805323\n"
          ]
        }
      ]
    },
    {
      "cell_type": "markdown",
      "source": [
        "### **Para facilitar la revisión, entrega dos archivos. El primero debe ser un Jupyter Notebook con todo el desarrollo (código comentado). El segundo debe ser un PDF del Jupyter Notebook. Para esto último, utiliza el comando nbconvert --to html para exportar el notebook a HTML y poder guardar el PDF más fácilmente (https://github.com/jupyter/nbconvert). Ten en cuenta que debes cargar tu directorio de Drive y dar la ruta al archivo, por lo que el comando completo sería:**\n",
        "!jupyter nbconvert --to html /content/drive/MyDrive/ColabNotebooks/archivo.ipynb"
      ],
      "metadata": {
        "id": "hCy-5jWFr1Uh"
      }
    },
    {
      "cell_type": "code",
      "source": [
        "!jupyter nbconvert --to html '/content/drive/MyDrive/ColabNotebooks/Varhalla1.ipynb'"
      ],
      "metadata": {
        "colab": {
          "base_uri": "https://localhost:8080/"
        },
        "id": "o13HbAFNB6F_",
        "outputId": "1c628cbe-edca-4ae2-8e55-10f3991f5ad7"
      },
      "execution_count": null,
      "outputs": [
        {
          "output_type": "stream",
          "name": "stdout",
          "text": [
            "[NbConvertApp] WARNING | pattern '/content/drive/MyDrive/ColabNotebooks/Varhalla1.ipynb' matched no files\n",
            "This application is used to convert notebook files (*.ipynb)\n",
            "        to various other formats.\n",
            "\n",
            "        WARNING: THE COMMANDLINE INTERFACE MAY CHANGE IN FUTURE RELEASES.\n",
            "\n",
            "Options\n",
            "=======\n",
            "The options below are convenience aliases to configurable class-options,\n",
            "as listed in the \"Equivalent to\" description-line of the aliases.\n",
            "To see all configurable class-options for some <cmd>, use:\n",
            "    <cmd> --help-all\n",
            "\n",
            "--debug\n",
            "    set log level to logging.DEBUG (maximize logging output)\n",
            "    Equivalent to: [--Application.log_level=10]\n",
            "--show-config\n",
            "    Show the application's configuration (human-readable format)\n",
            "    Equivalent to: [--Application.show_config=True]\n",
            "--show-config-json\n",
            "    Show the application's configuration (json format)\n",
            "    Equivalent to: [--Application.show_config_json=True]\n",
            "--generate-config\n",
            "    generate default config file\n",
            "    Equivalent to: [--JupyterApp.generate_config=True]\n",
            "-y\n",
            "    Answer yes to any questions instead of prompting.\n",
            "    Equivalent to: [--JupyterApp.answer_yes=True]\n",
            "--execute\n",
            "    Execute the notebook prior to export.\n",
            "    Equivalent to: [--ExecutePreprocessor.enabled=True]\n",
            "--allow-errors\n",
            "    Continue notebook execution even if one of the cells throws an error and include the error message in the cell output (the default behaviour is to abort conversion). This flag is only relevant if '--execute' was specified, too.\n",
            "    Equivalent to: [--ExecutePreprocessor.allow_errors=True]\n",
            "--stdin\n",
            "    read a single notebook file from stdin. Write the resulting notebook with default basename 'notebook.*'\n",
            "    Equivalent to: [--NbConvertApp.from_stdin=True]\n",
            "--stdout\n",
            "    Write notebook output to stdout instead of files.\n",
            "    Equivalent to: [--NbConvertApp.writer_class=StdoutWriter]\n",
            "--inplace\n",
            "    Run nbconvert in place, overwriting the existing notebook (only\n",
            "            relevant when converting to notebook format)\n",
            "    Equivalent to: [--NbConvertApp.use_output_suffix=False --NbConvertApp.export_format=notebook --FilesWriter.build_directory=]\n",
            "--clear-output\n",
            "    Clear output of current file and save in place,\n",
            "            overwriting the existing notebook.\n",
            "    Equivalent to: [--NbConvertApp.use_output_suffix=False --NbConvertApp.export_format=notebook --FilesWriter.build_directory= --ClearOutputPreprocessor.enabled=True]\n",
            "--no-prompt\n",
            "    Exclude input and output prompts from converted document.\n",
            "    Equivalent to: [--TemplateExporter.exclude_input_prompt=True --TemplateExporter.exclude_output_prompt=True]\n",
            "--no-input\n",
            "    Exclude input cells and output prompts from converted document.\n",
            "            This mode is ideal for generating code-free reports.\n",
            "    Equivalent to: [--TemplateExporter.exclude_output_prompt=True --TemplateExporter.exclude_input=True --TemplateExporter.exclude_input_prompt=True]\n",
            "--allow-chromium-download\n",
            "    Whether to allow downloading chromium if no suitable version is found on the system.\n",
            "    Equivalent to: [--WebPDFExporter.allow_chromium_download=True]\n",
            "--disable-chromium-sandbox\n",
            "    Disable chromium security sandbox when converting to PDF..\n",
            "    Equivalent to: [--WebPDFExporter.disable_sandbox=True]\n",
            "--show-input\n",
            "    Shows code input. This flag is only useful for dejavu users.\n",
            "    Equivalent to: [--TemplateExporter.exclude_input=False]\n",
            "--embed-images\n",
            "    Embed the images as base64 dataurls in the output. This flag is only useful for the HTML/WebPDF/Slides exports.\n",
            "    Equivalent to: [--HTMLExporter.embed_images=True]\n",
            "--sanitize-html\n",
            "    Whether the HTML in Markdown cells and cell outputs should be sanitized..\n",
            "    Equivalent to: [--HTMLExporter.sanitize_html=True]\n",
            "--log-level=<Enum>\n",
            "    Set the log level by value or name.\n",
            "    Choices: any of [0, 10, 20, 30, 40, 50, 'DEBUG', 'INFO', 'WARN', 'ERROR', 'CRITICAL']\n",
            "    Default: 30\n",
            "    Equivalent to: [--Application.log_level]\n",
            "--config=<Unicode>\n",
            "    Full path of a config file.\n",
            "    Default: ''\n",
            "    Equivalent to: [--JupyterApp.config_file]\n",
            "--to=<Unicode>\n",
            "    The export format to be used, either one of the built-in formats\n",
            "            ['asciidoc', 'custom', 'html', 'latex', 'markdown', 'notebook', 'pdf', 'python', 'rst', 'script', 'slides', 'webpdf']\n",
            "            or a dotted object name that represents the import path for an\n",
            "            ``Exporter`` class\n",
            "    Default: ''\n",
            "    Equivalent to: [--NbConvertApp.export_format]\n",
            "--template=<Unicode>\n",
            "    Name of the template to use\n",
            "    Default: ''\n",
            "    Equivalent to: [--TemplateExporter.template_name]\n",
            "--template-file=<Unicode>\n",
            "    Name of the template file to use\n",
            "    Default: None\n",
            "    Equivalent to: [--TemplateExporter.template_file]\n",
            "--theme=<Unicode>\n",
            "    Template specific theme(e.g. the name of a JupyterLab CSS theme distributed\n",
            "    as prebuilt extension for the lab template)\n",
            "    Default: 'light'\n",
            "    Equivalent to: [--HTMLExporter.theme]\n",
            "--sanitize_html=<Bool>\n",
            "    Whether the HTML in Markdown cells and cell outputs should be sanitized.This\n",
            "    should be set to True by nbviewer or similar tools.\n",
            "    Default: False\n",
            "    Equivalent to: [--HTMLExporter.sanitize_html]\n",
            "--writer=<DottedObjectName>\n",
            "    Writer class used to write the\n",
            "                                        results of the conversion\n",
            "    Default: 'FilesWriter'\n",
            "    Equivalent to: [--NbConvertApp.writer_class]\n",
            "--post=<DottedOrNone>\n",
            "    PostProcessor class used to write the\n",
            "                                        results of the conversion\n",
            "    Default: ''\n",
            "    Equivalent to: [--NbConvertApp.postprocessor_class]\n",
            "--output=<Unicode>\n",
            "    overwrite base name use for output files.\n",
            "                can only be used when converting one notebook at a time.\n",
            "    Default: ''\n",
            "    Equivalent to: [--NbConvertApp.output_base]\n",
            "--output-dir=<Unicode>\n",
            "    Directory to write output(s) to. Defaults\n",
            "                                  to output to the directory of each notebook. To recover\n",
            "                                  previous default behaviour (outputting to the current\n",
            "                                  working directory) use . as the flag value.\n",
            "    Default: ''\n",
            "    Equivalent to: [--FilesWriter.build_directory]\n",
            "--reveal-prefix=<Unicode>\n",
            "    The URL prefix for reveal.js (version 3.x).\n",
            "            This defaults to the reveal CDN, but can be any url pointing to a copy\n",
            "            of reveal.js.\n",
            "            For speaker notes to work, this must be a relative path to a local\n",
            "            copy of reveal.js: e.g., \"reveal.js\".\n",
            "            If a relative path is given, it must be a subdirectory of the\n",
            "            current directory (from which the server is run).\n",
            "            See the usage documentation\n",
            "            (https://nbconvert.readthedocs.io/en/latest/usage.html#reveal-js-html-slideshow)\n",
            "            for more details.\n",
            "    Default: ''\n",
            "    Equivalent to: [--SlidesExporter.reveal_url_prefix]\n",
            "--nbformat=<Enum>\n",
            "    The nbformat version to write.\n",
            "            Use this to downgrade notebooks.\n",
            "    Choices: any of [1, 2, 3, 4]\n",
            "    Default: 4\n",
            "    Equivalent to: [--NotebookExporter.nbformat_version]\n",
            "\n",
            "Examples\n",
            "--------\n",
            "\n",
            "    The simplest way to use nbconvert is\n",
            "\n",
            "            > jupyter nbconvert mynotebook.ipynb --to html\n",
            "\n",
            "            Options include ['asciidoc', 'custom', 'html', 'latex', 'markdown', 'notebook', 'pdf', 'python', 'rst', 'script', 'slides', 'webpdf'].\n",
            "\n",
            "            > jupyter nbconvert --to latex mynotebook.ipynb\n",
            "\n",
            "            Both HTML and LaTeX support multiple output templates. LaTeX includes\n",
            "            'base', 'article' and 'report'.  HTML includes 'basic', 'lab' and\n",
            "            'classic'. You can specify the flavor of the format used.\n",
            "\n",
            "            > jupyter nbconvert --to html --template lab mynotebook.ipynb\n",
            "\n",
            "            You can also pipe the output to stdout, rather than a file\n",
            "\n",
            "            > jupyter nbconvert mynotebook.ipynb --stdout\n",
            "\n",
            "            PDF is generated via latex\n",
            "\n",
            "            > jupyter nbconvert mynotebook.ipynb --to pdf\n",
            "\n",
            "            You can get (and serve) a Reveal.js-powered slideshow\n",
            "\n",
            "            > jupyter nbconvert myslides.ipynb --to slides --post serve\n",
            "\n",
            "            Multiple notebooks can be given at the command line in a couple of\n",
            "            different ways:\n",
            "\n",
            "            > jupyter nbconvert notebook*.ipynb\n",
            "            > jupyter nbconvert notebook1.ipynb notebook2.ipynb\n",
            "\n",
            "            or you can specify the notebooks list in a config file, containing::\n",
            "\n",
            "                c.NbConvertApp.notebooks = [\"my_notebook.ipynb\"]\n",
            "\n",
            "            > jupyter nbconvert --config mycfg.py\n",
            "\n",
            "To see all available configurables, use `--help-all`.\n",
            "\n"
          ]
        }
      ]
    }
  ]
}