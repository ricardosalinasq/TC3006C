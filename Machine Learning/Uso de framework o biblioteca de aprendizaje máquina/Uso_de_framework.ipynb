{
  "nbformat": 4,
  "nbformat_minor": 0,
  "metadata": {
    "colab": {
      "provenance": []
    },
    "kernelspec": {
      "name": "python3",
      "display_name": "Python 3"
    },
    "language_info": {
      "name": "python"
    }
  },
  "cells": [
    {
      "cell_type": "markdown",
      "source": [
        "### **Selecciona cualquiera de los Challenge vistos en clase y programa un algoritmo que permita resolver el problema. Dicho algoritmo debe ser uno de los algoritmos vistos en el módulo (o que tu profesor de módulo autorice) haciendo uso de Scikit-learn. Lo que se busca es que demuestres tu conocimiento sobre el framework y como configurar el algoritmo.**"
      ],
      "metadata": {
        "id": "-WpA3NPdfI-i"
      }
    },
    {
      "cell_type": "code",
      "source": [
        "#Importar pandas para poder leer el archivo\n",
        "\n",
        "import pandas as pd\n",
        "\n",
        "#Asignar una variable en la cual se almacenan todo el dataset, luego dos variables que tengan\n",
        "#una columna cada para poder asignar nuestra 'x' y 'y'\n",
        "\n",
        "v = pd.read_csv(\"Valhalla23.csv\")\n",
        "X = v.drop('Celsius', axis=1)\n",
        "y = v['Celsius']\n"
      ],
      "metadata": {
        "id": "qmUVeHcKfOVt"
      },
      "execution_count": 32,
      "outputs": []
    },
    {
      "cell_type": "markdown",
      "source": [
        "### **Divide el set de datos del problema en dos subconjuntos, uno para entrenamiento y otro para prueba. Entrena tu modelo sobre el primer subconjunto, y por un mínimo de 100 iteraciones. Selecciona valores para la tasa de aprendizaje y para los parámetros iniciales, según tu criterio.**"
      ],
      "metadata": {
        "id": "wQ5wnlSmfOqC"
      }
    },
    {
      "cell_type": "code",
      "source": [
        "#Para hacer la division de los datos en dos subconjuntos haremos uso de train_test_split\n",
        "#Primero importaremos la libreria necesaria\n",
        "\n",
        "from sklearn.model_selection import train_test_split\n",
        "\n",
        "#Ahora haremos la division de las variables, utilizando 70% de los datos para el entrenamiento\n",
        "# y 30% de los datos para la variable de prueba\n",
        "\n",
        "X_train, X_test, y_train, y_test = train_test_split(X, y, test_size=0.3)\n",
        "\n",
        "#Ahora haremos un entrenamiento con 100 iteraciones usando linear_model, ahora importaremos\n",
        "# la libreria necesaria\n",
        "\n",
        "from sklearn import linear_model\n",
        "from sklearn.linear_model import LinearRegression\n",
        "\n",
        "#Ahora asignaremos el entrenamiento a la variable modelo y usaremos la funcion .fit para\n",
        "# llevar a cabo el entrenamiento\n",
        "\n",
        "modelo = linear_model.SGDRegressor(penalty= None, max_iter= 100, eta0=0.0001)\n",
        "modelo.fit(X_train, y_train)"
      ],
      "metadata": {
        "colab": {
          "base_uri": "https://localhost:8080/",
          "height": 74
        },
        "id": "IQllqVTLfT3-",
        "outputId": "7cecd551-1de8-4e30-eb33-d11850aa9a54"
      },
      "execution_count": 33,
      "outputs": [
        {
          "output_type": "execute_result",
          "data": {
            "text/plain": [
              "SGDRegressor(eta0=0.0001, max_iter=100, penalty=None)"
            ],
            "text/html": [
              "<style>#sk-container-id-3 {color: black;}#sk-container-id-3 pre{padding: 0;}#sk-container-id-3 div.sk-toggleable {background-color: white;}#sk-container-id-3 label.sk-toggleable__label {cursor: pointer;display: block;width: 100%;margin-bottom: 0;padding: 0.3em;box-sizing: border-box;text-align: center;}#sk-container-id-3 label.sk-toggleable__label-arrow:before {content: \"▸\";float: left;margin-right: 0.25em;color: #696969;}#sk-container-id-3 label.sk-toggleable__label-arrow:hover:before {color: black;}#sk-container-id-3 div.sk-estimator:hover label.sk-toggleable__label-arrow:before {color: black;}#sk-container-id-3 div.sk-toggleable__content {max-height: 0;max-width: 0;overflow: hidden;text-align: left;background-color: #f0f8ff;}#sk-container-id-3 div.sk-toggleable__content pre {margin: 0.2em;color: black;border-radius: 0.25em;background-color: #f0f8ff;}#sk-container-id-3 input.sk-toggleable__control:checked~div.sk-toggleable__content {max-height: 200px;max-width: 100%;overflow: auto;}#sk-container-id-3 input.sk-toggleable__control:checked~label.sk-toggleable__label-arrow:before {content: \"▾\";}#sk-container-id-3 div.sk-estimator input.sk-toggleable__control:checked~label.sk-toggleable__label {background-color: #d4ebff;}#sk-container-id-3 div.sk-label input.sk-toggleable__control:checked~label.sk-toggleable__label {background-color: #d4ebff;}#sk-container-id-3 input.sk-hidden--visually {border: 0;clip: rect(1px 1px 1px 1px);clip: rect(1px, 1px, 1px, 1px);height: 1px;margin: -1px;overflow: hidden;padding: 0;position: absolute;width: 1px;}#sk-container-id-3 div.sk-estimator {font-family: monospace;background-color: #f0f8ff;border: 1px dotted black;border-radius: 0.25em;box-sizing: border-box;margin-bottom: 0.5em;}#sk-container-id-3 div.sk-estimator:hover {background-color: #d4ebff;}#sk-container-id-3 div.sk-parallel-item::after {content: \"\";width: 100%;border-bottom: 1px solid gray;flex-grow: 1;}#sk-container-id-3 div.sk-label:hover label.sk-toggleable__label {background-color: #d4ebff;}#sk-container-id-3 div.sk-serial::before {content: \"\";position: absolute;border-left: 1px solid gray;box-sizing: border-box;top: 0;bottom: 0;left: 50%;z-index: 0;}#sk-container-id-3 div.sk-serial {display: flex;flex-direction: column;align-items: center;background-color: white;padding-right: 0.2em;padding-left: 0.2em;position: relative;}#sk-container-id-3 div.sk-item {position: relative;z-index: 1;}#sk-container-id-3 div.sk-parallel {display: flex;align-items: stretch;justify-content: center;background-color: white;position: relative;}#sk-container-id-3 div.sk-item::before, #sk-container-id-3 div.sk-parallel-item::before {content: \"\";position: absolute;border-left: 1px solid gray;box-sizing: border-box;top: 0;bottom: 0;left: 50%;z-index: -1;}#sk-container-id-3 div.sk-parallel-item {display: flex;flex-direction: column;z-index: 1;position: relative;background-color: white;}#sk-container-id-3 div.sk-parallel-item:first-child::after {align-self: flex-end;width: 50%;}#sk-container-id-3 div.sk-parallel-item:last-child::after {align-self: flex-start;width: 50%;}#sk-container-id-3 div.sk-parallel-item:only-child::after {width: 0;}#sk-container-id-3 div.sk-dashed-wrapped {border: 1px dashed gray;margin: 0 0.4em 0.5em 0.4em;box-sizing: border-box;padding-bottom: 0.4em;background-color: white;}#sk-container-id-3 div.sk-label label {font-family: monospace;font-weight: bold;display: inline-block;line-height: 1.2em;}#sk-container-id-3 div.sk-label-container {text-align: center;}#sk-container-id-3 div.sk-container {/* jupyter's `normalize.less` sets `[hidden] { display: none; }` but bootstrap.min.css set `[hidden] { display: none !important; }` so we also need the `!important` here to be able to override the default hidden behavior on the sphinx rendered scikit-learn.org. See: https://github.com/scikit-learn/scikit-learn/issues/21755 */display: inline-block !important;position: relative;}#sk-container-id-3 div.sk-text-repr-fallback {display: none;}</style><div id=\"sk-container-id-3\" class=\"sk-top-container\"><div class=\"sk-text-repr-fallback\"><pre>SGDRegressor(eta0=0.0001, max_iter=100, penalty=None)</pre><b>In a Jupyter environment, please rerun this cell to show the HTML representation or trust the notebook. <br />On GitHub, the HTML representation is unable to render, please try loading this page with nbviewer.org.</b></div><div class=\"sk-container\" hidden><div class=\"sk-item\"><div class=\"sk-estimator sk-toggleable\"><input class=\"sk-toggleable__control sk-hidden--visually\" id=\"sk-estimator-id-3\" type=\"checkbox\" checked><label for=\"sk-estimator-id-3\" class=\"sk-toggleable__label sk-toggleable__label-arrow\">SGDRegressor</label><div class=\"sk-toggleable__content\"><pre>SGDRegressor(eta0=0.0001, max_iter=100, penalty=None)</pre></div></div></div></div></div>"
            ]
          },
          "metadata": {},
          "execution_count": 33
        }
      ]
    },
    {
      "cell_type": "markdown",
      "source": [
        "### **Prueba tu implementación. Para ello, utiliza el modelo entrenado para hacer predecir las salidas del subconjunto de prueba, y compara contra los datos reales en una gráfica.**"
      ],
      "metadata": {
        "id": "xCVnUC4zfUP8"
      }
    },
    {
      "cell_type": "code",
      "source": [
        "#Para esta grafica haremos una grafica de barras para mostrar las diferencias entre las predicciones y las variables reales\n",
        "# primeramente importaremos la libreria necesaria\n",
        "import matplotlib.pyplot as plt\n",
        "\n",
        "\n",
        "#Ahora graficaremos\n",
        "plt.figure(figsize=(10, 6))\n",
        "plt.hist(y_test, bins=20, alpha=0.5, color='green', label='Valores Reales')\n",
        "plt.hist(y_train, bins=20, alpha=0.5, color='red', label='Predicciones')\n",
        "plt.xlabel('Celsius')\n",
        "plt.ylabel('Frecuencia')\n",
        "plt.title('Histograma de Predicciones vs Valores Reales')\n",
        "plt.legend()\n",
        "plt.show()"
      ],
      "metadata": {
        "colab": {
          "base_uri": "https://localhost:8080/",
          "height": 564
        },
        "id": "MXWZnix-fZFq",
        "outputId": "baf852f3-7d3c-4148-fc84-bddd3d696cd7"
      },
      "execution_count": 39,
      "outputs": [
        {
          "output_type": "display_data",
          "data": {
            "text/plain": [
              "<Figure size 1000x600 with 1 Axes>"
            ],
            "image/png": "[encoded data removed]"
          },
          "metadata": {}
        }
      ]
    },
    {
      "cell_type": "markdown",
      "source": [
        "### **Calcula una métrica acorde a tu modelo, tanto para el subconjunto de entrenamiento, como para el subconjunto de prueba. Por ejemplo, si implementaste un algoritmo de regresión debes calcular el error cuadrático medio; si fue uno de clasificación, debes reportar las matrices de confusión y el f1-score.**"
      ],
      "metadata": {
        "id": "RAZYF5M-fZW9"
      }
    },
    {
      "cell_type": "code",
      "source": [
        "#Para la revision de nuestras predicciones usaremos mean_squared_error, por lo cual\n",
        "# improtaremos primero las librerias\n",
        "\n",
        "from sklearn.metrics import mean_squared_error\n",
        "\n",
        "#Ahora aplicaremos la funcion para ver el desempeño de nuestra variable\n",
        "\n",
        "p = modelo.predict(X_test)\n",
        "mse = mean_squared_error(y_test, p)\n",
        "print('El mean squared error del modelo es:')\n",
        "print(mse)"
      ],
      "metadata": {
        "colab": {
          "base_uri": "https://localhost:8080/"
        },
        "id": "IF36fY_afd89",
        "outputId": "283d81bc-ee78-479b-d981-92d471a11604"
      },
      "execution_count": 40,
      "outputs": [
        {
          "output_type": "stream",
          "name": "stdout",
          "text": [
            "El mean squared error del modelo es:\n",
            "200.84865380209976\n"
          ]
        }
      ]
    },
    {
      "cell_type": "markdown",
      "source": [
        "### **Para facilitar la revisión, entrega dos archivos. El primero debe ser un Jupyter Notebook con todo el desarrollo (código comentado). El segundo debe ser un PDF del Jupyter Notebook. Revisa las instrucciones del entregable pasado para ver cómo exportar el archivo HTML y posteriormente pasarlo a PDF.**"
      ],
      "metadata": {
        "id": "VhI1WEfrfeRy"
      }
    },
    {
      "cell_type": "code",
      "source": [
        "from google.colab import drive\n",
        "drive.mount('/content/drive')\n",
        "!jupyter nbconvert --to html '/content/drive/MyDrive/ColabNotebooks/Uso_de_framework.ipynb'"
      ],
      "metadata": {
        "colab": {
          "base_uri": "https://localhost:8080/"
        },
        "id": "4iwzrfdwlEaQ",
        "outputId": "b99c4a2b-0bb4-47cd-8382-869979882ca1"
      },
      "execution_count": 42,
      "outputs": [
        {
          "output_type": "stream",
          "name": "stdout",
          "text": [
            "Drive already mounted at /content/drive; to attempt to forcibly remount, call drive.mount(\"/content/drive\", force_remount=True).\n",
            "[NbConvertApp] Converting notebook /content/drive/MyDrive/ColabNotebooks/Uso_de_framework.ipynb to html\n",
            "[NbConvertApp] Writing 626210 bytes to /content/drive/MyDrive/ColabNotebooks/Uso_de_framework.html\n"
          ]
        }
      ]
    }
  ]
}