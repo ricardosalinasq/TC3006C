{
  "nbformat": 4,
  "nbformat_minor": 0,
  "metadata": {
    "colab": {
      "provenance": []
    },
    "kernelspec": {
      "name": "python3",
      "display_name": "Python 3"
    },
    "language_info": {
      "name": "python"
    }
  },
  "cells": [
    {
      "cell_type": "markdown",
      "source": [
        "## **1. Crea un espacio dentro del repositorio de GitHub que creaste para el portafolio de análisis (por ejemplo, una carpeta para el módulo de ML con una subcarpeta para este entregable).**"
      ],
      "metadata": {
        "id": "OiXH7O2O7iDH"
      }
    },
    {
      "cell_type": "code",
      "source": [
        "#Primero definiremos las librerias que se utilizaran\n",
        "import pandas as pd\n",
        "from sklearn.model_selection import train_test_split\n",
        "from sklearn.linear_model import SGDRegressor"
      ],
      "metadata": {
        "id": "fnMLHeCF7lef"
      },
      "execution_count": 1,
      "outputs": []
    },
    {
      "cell_type": "markdown",
      "source": [
        "## **2. Define una semilla que corresponda con los últimos cuatro dígitos de tu matrícula**"
      ],
      "metadata": {
        "id": "3A4VeKhxS_KB"
      }
    },
    {
      "cell_type": "code",
      "source": [
        "#La matricula es 01284657, asi que se escogen los ultimos 4 digitos\n",
        "seed = 4657"
      ],
      "metadata": {
        "id": "zI-UtmF6TCIY"
      },
      "execution_count": 8,
      "outputs": []
    },
    {
      "cell_type": "markdown",
      "source": [
        "## **3. Carga el set de datos de Valhalla y divide el set de datos en entrenamiento (40%), validación (40%), y prueba (20%), utilizando el método train_test_split. y la semilla definida arriba**"
      ],
      "metadata": {
        "id": "4hjOjZ0vTB0F"
      }
    },
    {
      "cell_type": "code",
      "source": [
        "#Primero haremos la lectura del dataset y haremos la division de las columnas en X y y\n",
        "v = pd.read_csv('Valhalla23.csv')\n",
        "x = v.drop(columns=['Valks'])\n",
        "y = v['Valks']\n",
        "\n",
        "#Primero haremos la division de dos variables con el train_test_split, una variable siendo la de\n",
        "#test, la cual tendra el 20% de los datos, y la otra variable sera v_1, la cual tendra el restante de los datos\n",
        "x_1, x_test, y_1, y_test = train_test_split(x, y, test_size=0.2, random_state=seed)\n",
        "\n",
        "#Ahora con los datos restantes haremos la division de 40 y 40 a las variables de train y validacion\n",
        "x_train, x_val, y_train, y_val = train_test_split(x_1, y_1, test_size=0.5, random_state=seed)\n",
        "\n",
        "#Confirmamos los valores de las variables\n",
        "print('x_train:', x_train.shape)\n",
        "print('x_val:', x_val.shape)\n",
        "print('x_test:', x_test.shape)\n"
      ],
      "metadata": {
        "id": "jnSPNVIETGjF",
        "colab": {
          "base_uri": "https://localhost:8080/",
          "height": 0
        },
        "outputId": "48b7ae18-5e32-4baf-a774-8f42f1d87925"
      },
      "execution_count": 23,
      "outputs": [
        {
          "output_type": "stream",
          "name": "stdout",
          "text": [
            "x_train: (40, 1)\n",
            "x_val: (40, 1)\n",
            "x_test: (20, 1)\n"
          ]
        }
      ]
    },
    {
      "cell_type": "markdown",
      "source": [
        "## **4 .Entrena un modelo base de tipo SGDRegressor que utilice una tasa de aprendizaje de 1E-4, un máximo de iteraciones de un millón, y que utilice la semilla definida arriba**"
      ],
      "metadata": {
        "id": "YsMqGqIiTG5O"
      }
    },
    {
      "cell_type": "code",
      "source": [
        "#Se hace el entrenamiento con el uso de SGDRegressor y las especificaciones\n",
        "model = SGDRegressor(learning_rate='constant', eta0=1E-4, max_iter=1000000, random_state=seed)\n",
        "model.fit(x_train, y_train)"
      ],
      "metadata": {
        "id": "figQmGtoTKni",
        "colab": {
          "base_uri": "https://localhost:8080/",
          "height": 91
        },
        "outputId": "5dddefa4-68ff-4df6-9b99-58dc79b380f0"
      },
      "execution_count": 24,
      "outputs": [
        {
          "output_type": "execute_result",
          "data": {
            "text/plain": [
              "SGDRegressor(eta0=0.0001, learning_rate='constant', max_iter=1000000,\n",
              "             random_state=4657)"
            ],
            "text/html": [
              "<style>#sk-container-id-1 {color: black;}#sk-container-id-1 pre{padding: 0;}#sk-container-id-1 div.sk-toggleable {background-color: white;}#sk-container-id-1 label.sk-toggleable__label {cursor: pointer;display: block;width: 100%;margin-bottom: 0;padding: 0.3em;box-sizing: border-box;text-align: center;}#sk-container-id-1 label.sk-toggleable__label-arrow:before {content: \"▸\";float: left;margin-right: 0.25em;color: #696969;}#sk-container-id-1 label.sk-toggleable__label-arrow:hover:before {color: black;}#sk-container-id-1 div.sk-estimator:hover label.sk-toggleable__label-arrow:before {color: black;}#sk-container-id-1 div.sk-toggleable__content {max-height: 0;max-width: 0;overflow: hidden;text-align: left;background-color: #f0f8ff;}#sk-container-id-1 div.sk-toggleable__content pre {margin: 0.2em;color: black;border-radius: 0.25em;background-color: #f0f8ff;}#sk-container-id-1 input.sk-toggleable__control:checked~div.sk-toggleable__content {max-height: 200px;max-width: 100%;overflow: auto;}#sk-container-id-1 input.sk-toggleable__control:checked~label.sk-toggleable__label-arrow:before {content: \"▾\";}#sk-container-id-1 div.sk-estimator input.sk-toggleable__control:checked~label.sk-toggleable__label {background-color: #d4ebff;}#sk-container-id-1 div.sk-label input.sk-toggleable__control:checked~label.sk-toggleable__label {background-color: #d4ebff;}#sk-container-id-1 input.sk-hidden--visually {border: 0;clip: rect(1px 1px 1px 1px);clip: rect(1px, 1px, 1px, 1px);height: 1px;margin: -1px;overflow: hidden;padding: 0;position: absolute;width: 1px;}#sk-container-id-1 div.sk-estimator {font-family: monospace;background-color: #f0f8ff;border: 1px dotted black;border-radius: 0.25em;box-sizing: border-box;margin-bottom: 0.5em;}#sk-container-id-1 div.sk-estimator:hover {background-color: #d4ebff;}#sk-container-id-1 div.sk-parallel-item::after {content: \"\";width: 100%;border-bottom: 1px solid gray;flex-grow: 1;}#sk-container-id-1 div.sk-label:hover label.sk-toggleable__label {background-color: #d4ebff;}#sk-container-id-1 div.sk-serial::before {content: \"\";position: absolute;border-left: 1px solid gray;box-sizing: border-box;top: 0;bottom: 0;left: 50%;z-index: 0;}#sk-container-id-1 div.sk-serial {display: flex;flex-direction: column;align-items: center;background-color: white;padding-right: 0.2em;padding-left: 0.2em;position: relative;}#sk-container-id-1 div.sk-item {position: relative;z-index: 1;}#sk-container-id-1 div.sk-parallel {display: flex;align-items: stretch;justify-content: center;background-color: white;position: relative;}#sk-container-id-1 div.sk-item::before, #sk-container-id-1 div.sk-parallel-item::before {content: \"\";position: absolute;border-left: 1px solid gray;box-sizing: border-box;top: 0;bottom: 0;left: 50%;z-index: -1;}#sk-container-id-1 div.sk-parallel-item {display: flex;flex-direction: column;z-index: 1;position: relative;background-color: white;}#sk-container-id-1 div.sk-parallel-item:first-child::after {align-self: flex-end;width: 50%;}#sk-container-id-1 div.sk-parallel-item:last-child::after {align-self: flex-start;width: 50%;}#sk-container-id-1 div.sk-parallel-item:only-child::after {width: 0;}#sk-container-id-1 div.sk-dashed-wrapped {border: 1px dashed gray;margin: 0 0.4em 0.5em 0.4em;box-sizing: border-box;padding-bottom: 0.4em;background-color: white;}#sk-container-id-1 div.sk-label label {font-family: monospace;font-weight: bold;display: inline-block;line-height: 1.2em;}#sk-container-id-1 div.sk-label-container {text-align: center;}#sk-container-id-1 div.sk-container {/* jupyter's `normalize.less` sets `[hidden] { display: none; }` but bootstrap.min.css set `[hidden] { display: none !important; }` so we also need the `!important` here to be able to override the default hidden behavior on the sphinx rendered scikit-learn.org. See: https://github.com/scikit-learn/scikit-learn/issues/21755 */display: inline-block !important;position: relative;}#sk-container-id-1 div.sk-text-repr-fallback {display: none;}</style><div id=\"sk-container-id-1\" class=\"sk-top-container\"><div class=\"sk-text-repr-fallback\"><pre>SGDRegressor(eta0=0.0001, learning_rate=&#x27;constant&#x27;, max_iter=1000000,\n",
              "             random_state=4657)</pre><b>In a Jupyter environment, please rerun this cell to show the HTML representation or trust the notebook. <br />On GitHub, the HTML representation is unable to render, please try loading this page with nbviewer.org.</b></div><div class=\"sk-container\" hidden><div class=\"sk-item\"><div class=\"sk-estimator sk-toggleable\"><input class=\"sk-toggleable__control sk-hidden--visually\" id=\"sk-estimator-id-1\" type=\"checkbox\" checked><label for=\"sk-estimator-id-1\" class=\"sk-toggleable__label sk-toggleable__label-arrow\">SGDRegressor</label><div class=\"sk-toggleable__content\"><pre>SGDRegressor(eta0=0.0001, learning_rate=&#x27;constant&#x27;, max_iter=1000000,\n",
              "             random_state=4657)</pre></div></div></div></div></div>"
            ]
          },
          "metadata": {},
          "execution_count": 24
        }
      ]
    },
    {
      "cell_type": "markdown",
      "source": [
        "## **5. Calcula el error cuadrático medio para este modelo, sobre los datos de entrenamiento, validación, y prueba. Estos datos servirán como línea base.**"
      ],
      "metadata": {
        "id": "Nd9tzcC_TK31"
      }
    },
    {
      "cell_type": "code",
      "source": [
        "#Primero hacemos la importacion de la funcion mean_squared_error\n",
        "from sklearn.metrics import mean_squared_error\n",
        "\n",
        "#Ahora sacaremos las errores cuadraticos medios.\n",
        "\n",
        "y_val_pred = model.predict(x_val)\n",
        "mse_val = mean_squared_error(y_val, y_val_pred)\n",
        "print('El error cuadratico medio de la variable de valoracion es: ', mse_val)\n",
        "\n",
        "y_train_pred = model.predict(x_train)\n",
        "mse_train = mean_squared_error(y_train, y_train_pred)\n",
        "print('El error cuadratico medio de la variable de train es: ', mse_train)\n",
        "\n",
        "y_test_pred = model.predict(x_test)\n",
        "mse_test = mean_squared_error(y_test, y_test_pred)\n",
        "print('El error cuadratico medio de la variable de test es: ', mse_test)\n",
        "\n"
      ],
      "metadata": {
        "id": "Kz35CeVqTPUP",
        "colab": {
          "base_uri": "https://localhost:8080/",
          "height": 0
        },
        "outputId": "4915f25f-b72d-44ed-e4b2-6f2e996db7de"
      },
      "execution_count": 31,
      "outputs": [
        {
          "output_type": "stream",
          "name": "stdout",
          "text": [
            "El error cuadratico medio de la variable de valoracion es:  991.9814523064866\n",
            "El error cuadratico medio de la variable de train es:  1406.1411863842443\n",
            "El error cuadratico medio de la variable de test es:  775.7414893474745\n"
          ]
        }
      ]
    },
    {
      "cell_type": "markdown",
      "source": [
        "## **6. Realiza una gráfica donde muestres cada subconjunto de datos (entrenamiento, validación, prueba) y el modelo de regresión obtenido (como una recta)**"
      ],
      "metadata": {
        "id": "sEB45yhnTPmZ"
      }
    },
    {
      "cell_type": "code",
      "source": [
        "#Primero importaremos plt para hacer los scatter plots\n",
        "import matplotlib.pyplot as plt\n",
        "\n",
        "#Haremos el scatter plot de train\n",
        "plt.scatter(x_train, y_train, label='Train')\n",
        "plt.plot(x_train, model.predict(x_train), color='red', label='Modelo de Regresion de Train')\n",
        "plt.legend()\n",
        "plt.show()\n",
        "plt.close()\n",
        "\n",
        "#Haremos el scatter plot de val\n",
        "plt.scatter(x_val, y_val, label='Val')\n",
        "plt.plot(x_val, model.predict(x_val), color='red', label='Modelo de Regresion de Validacion')\n",
        "plt.legend()\n",
        "plt.show()\n",
        "plt.close()\n",
        "\n",
        "#Haremos el scatter plot de test\n",
        "plt.scatter(x_test, y_test, label='Test')\n",
        "plt.plot(x_test, model.predict(x_test), color='red', label='Modelo de Regresion de Test')\n",
        "plt.legend()\n",
        "plt.show()\n",
        "plt.close()"
      ],
      "metadata": {
        "id": "HbwkVpCfTTLz",
        "colab": {
          "base_uri": "https://localhost:8080/",
          "height": 1256
        },
        "outputId": "e335a847-ad18-4d39-abf5-2b9cf0dd9413"
      },
      "execution_count": 40,
      "outputs": [
        {
          "output_type": "display_data",
          "data": {
            "text/plain": [
              "<Figure size 640x480 with 1 Axes>"
            ],
            "image/png": "[encoded data removed]"
          },
          "metadata": {}
        },
        {
          "output_type": "display_data",
          "data": {
            "text/plain": [
              "<Figure size 640x480 with 1 Axes>"
            ],
            "image/png": "[encoded data removed]"
          },
          "metadata": {}
        },
        {
          "output_type": "display_data",
          "data": {
            "text/plain": [
              "<Figure size 640x480 with 1 Axes>"
            ],
            "image/png": "[encoded data removed]"
          },
          "metadata": {}
        }
      ]
    },
    {
      "cell_type": "markdown",
      "source": [
        "## **7. Crea una lista que contenga 20 elementos (enteros) entre 2 y 39 (sin repetición, y que incluyan el número 2). Estos valores representarán la cantidad de instancias que se usarán para el análisis**"
      ],
      "metadata": {
        "id": "FjfHZ7dLTTij"
      }
    },
    {
      "cell_type": "code",
      "source": [
        "#Primero importamos la libreria random\n",
        "import random\n",
        "\n",
        "#Luego creamos la lista empezando del 3 para luego insertar el valor de 2\n",
        "#asi asegurandonos de que la lista lo contenga pero no se repita\n",
        "lista = random.sample(range(3, 40), 19)\n",
        "\n",
        "#Ahora insertamos el valor de 2 a la lista\n",
        "lista.insert(0,2)\n",
        "\n",
        "print(lista)"
      ],
      "metadata": {
        "id": "pxh7MDzSTYtq",
        "colab": {
          "base_uri": "https://localhost:8080/",
          "height": 0
        },
        "outputId": "1ce98d3f-b1ea-4f5e-e60c-eee079cb4b6d"
      },
      "execution_count": 84,
      "outputs": [
        {
          "output_type": "stream",
          "name": "stdout",
          "text": [
            "[2, 38, 13, 32, 16, 27, 6, 8, 15, 12, 7, 3, 21, 28, 10, 4, 9, 31, 22, 25]\n"
          ]
        }
      ]
    },
    {
      "cell_type": "markdown",
      "source": [
        "## **8. Para cada uno de los tamaños del punto anterior, entrena 100 modelos usando un subconjunto aleatorio del set de entrenamiento que contenga esa cantidad de muestras. Por ejemplo, para el tamaño de 2 muestras, se deben entrenar 100 modelos utilizando 2 muestras seleccionadas aleatoriamente de las 40 muestras disponibles en el set de entrenamiento**"
      ],
      "metadata": {
        "id": "D-XjUG63TY92"
      }
    },
    {
      "cell_type": "code",
      "source": [
        "import numpy as np\n",
        "\n",
        "#Primero asignaremos una variable que contenga los resultados\n",
        "\n",
        "resultados = {}\n",
        "\n",
        "#Utilizaremos un for para hacer los entrenamientos\n",
        "for i in lista:\n",
        "    modelos_train = []\n",
        "    pred_train = []\n",
        "\n",
        "    for _ in range(100):\n",
        "        valor_r = random.sample(range(len(x_train)), i)\n",
        "        x_train_1 = x_train.iloc[valor_r]\n",
        "        y_train_1 = y_train.iloc[valor_r]\n",
        "\n",
        "        modelo1 = SGDRegressor(learning_rate='constant', eta0=1E-4, max_iter=1000000, random_state=seed)\n",
        "        modelo1.fit(x_train_1, y_train_1)\n",
        "\n",
        "        modelos_train.append(modelo1)\n",
        "\n",
        "    resultados[i] = {'modelos': modelos_train, 'x_train_1': x_train_1, 'y_train_1': y_train_1, 'x_train': x_train, 'y_train': y_train}"
      ],
      "metadata": {
        "id": "GxaipdGlTcQL"
      },
      "execution_count": 117,
      "outputs": []
    },
    {
      "cell_type": "markdown",
      "source": [
        "## **9. Para cada uno de los modelos del punto anterior, calcula el error cuadrático medio en el subconjunto de entrenamiento (el que tiene un número cambiante de muestras), y en el subconjunto de validación**"
      ],
      "metadata": {
        "id": "XC1p3rp7Tciu"
      }
    },
    {
      "cell_type": "code",
      "source": [
        "#Primero crearemos mse_resultados para almacenar los valores de MSE, tambien crearemos e_train y e_val para almacenar los datos de mse de train y validacion\n",
        "mse_resultados = {}\n",
        "\n",
        "e_train = {tamaño: [] for tamaño in lista}\n",
        "e_val = {tamaño: [] for tamaño in lista}\n",
        "\n",
        "#Creamos un for el cual calcula el MSE de los datos de train y validacion\n",
        "for tamaño,data in resultados.items():\n",
        "  modelos = data['modelos']\n",
        "  x_train_1 = data['x_train_1']\n",
        "  y_train_1 = data['y_train_1']\n",
        "  x_train = data['x_train']\n",
        "  y_train = data['y_train']\n",
        "\n",
        "  mse_train_tamaño = []\n",
        "  mse_val_tamaño = []\n",
        "\n",
        "  for modelo in modelos:\n",
        "        #Predicción de entrenamiento\n",
        "        pred_train = modelo.predict(x_train_1)\n",
        "        mse_train = mean_squared_error(y_train_1, pred_train)\n",
        "        mse_train_tamaño.append(mse_train)\n",
        "\n",
        "        #Predicción de validación\n",
        "        pred_val = modelo.predict(x_val)\n",
        "        mse_val = mean_squared_error(y_val, pred_val)\n",
        "        mse_val_tamaño.append(mse_val)\n",
        "\n",
        "  #Asignamos los promedios de los valores de MSE tanto de train como de validacion\n",
        "  mse_resultados[tamaño] = {'mse_train': np.mean(mse_train_tamaño),'mse_val': np.mean(mse_val_tamaño)}\n"
      ],
      "metadata": {
        "id": "W1lZbnPuTfqe"
      },
      "execution_count": 129,
      "outputs": []
    },
    {
      "cell_type": "markdown",
      "source": [
        "## **10. Calcula el promedio de las 100 repeticiones para cada uno de los modelos y sus errores. Esto debería generar dos listas de 20 valores cada uno, donde cada elemento representa el error promedio de las 100 repeticiones que se hicieron para cada subconjunto de entrenamiento**"
      ],
      "metadata": {
        "id": "_2CLuyUnTf7i"
      }
    },
    {
      "cell_type": "code",
      "source": [
        "#Generamos variables en las cuales se van a guardar los promedios de train y validacion\n",
        "promedio_train = {}\n",
        "promedio_val = {}\n",
        "\n",
        "#Hacemos un for el cual guarde el valor de cada MSE de train y validacion en las variables pasadas\n",
        "for tamaño in lista:\n",
        "    promedio_train[tamaño] = mse_resultados[tamaño]['mse_train']\n",
        "    promedio_val[tamaño] = mse_resultados[tamaño]['mse_val']\n",
        "\n",
        "\n",
        "print(promedio_train)\n",
        "print(promedio_val)\n",
        "print(len(promedio_train))\n",
        "print(len(promedio_val))"
      ],
      "metadata": {
        "id": "PPsdR3fGTh2N",
        "colab": {
          "base_uri": "https://localhost:8080/"
        },
        "outputId": "a196edc2-bd51-4f72-cdea-9ef9fcb57366"
      },
      "execution_count": 139,
      "outputs": [
        {
          "output_type": "stream",
          "name": "stdout",
          "text": [
            "{2: 885.3065490877322, 38: 1089.913981991267, 13: 878.6438976555506, 32: 1517.8032164007348, 16: 1279.8083676078877, 27: 1354.195175930136, 6: 1515.4995396814836, 8: 899.7355930690792, 15: 1096.2881032595067, 12: 1009.7260338693916, 7: 81.38480407681114, 3: 205.66660242654336, 21: 1197.9372725965577, 28: 1517.1354281661263, 10: 1124.25870359679, 4: 57.71253569565476, 9: 62.06684015129164, 31: 1344.4862067385732, 22: 1290.873500676549, 25: 1170.9157212600471}\n",
            "{2: 8756.510169429217, 38: 827.6883517101336, 13: 789.2108971448808, 32: 925.8761983394106, 16: 865.5962921031349, 27: 950.6352892148891, 6: 799.1111644106204, 8: 819.0174602218592, 15: 945.7414548946722, 12: 836.1961033055783, 7: 86.206143866388, 3: 147.02039019352588, 21: 931.033995952337, 28: 951.869164679127, 10: 796.7393819303048, 4: 75.04931296488206, 9: 61.88941457758173, 31: 856.8656511168365, 22: 929.622802120279, 25: 957.6510291197867}\n",
            "20\n",
            "20\n"
          ]
        }
      ]
    },
    {
      "cell_type": "markdown",
      "source": [
        "## **11. Agrega a las listas anteriores los errores de entrenamiento y validación de la línea base**"
      ],
      "metadata": {
        "id": "vi0EgXf3TiHt"
      }
    },
    {
      "cell_type": "code",
      "source": [
        "#Hacemos un append el cual agregue los valores\n",
        "e_train[tamaño].append(mse_train)\n",
        "e_val[tamaño].append(mse_val)"
      ],
      "metadata": {
        "id": "sz9O0pZyTlrp"
      },
      "execution_count": 140,
      "outputs": []
    },
    {
      "cell_type": "markdown",
      "source": [
        "## **12. Haz una gráfica donde se muestre la evolución del error promedio de entrenamiento y validación, para cada uno de los diferentes tamaños de entrenamiento**"
      ],
      "metadata": {
        "id": "7GN8YJDpTo38"
      }
    },
    {
      "cell_type": "code",
      "source": [
        "plt.scatter(x=lista, y=promedio_train.values(), label='Train')\n",
        "plt.scatter(x=lista, y=promedio_val.values(), label='Val')"
      ],
      "metadata": {
        "id": "87TEBKDCTrpK",
        "colab": {
          "base_uri": "https://localhost:8080/",
          "height": 447
        },
        "outputId": "e38e7ec1-e331-464d-9f66-10fe6a278394"
      },
      "execution_count": 141,
      "outputs": [
        {
          "output_type": "execute_result",
          "data": {
            "text/plain": [
              "<matplotlib.collections.PathCollection at 0x7a1be8581780>"
            ]
          },
          "metadata": {},
          "execution_count": 141
        },
        {
          "output_type": "display_data",
          "data": {
            "text/plain": [
              "<Figure size 640x480 with 1 Axes>"
            ],
            "image/png": "[encoded data removed]"
          },
          "metadata": {}
        }
      ]
    },
    {
      "cell_type": "markdown",
      "source": [
        "## **13. Con base en la grafica anterior, explica el tipo de ajuste obtenido para el primer modelo (el entrenado sobre 2 muestras) y para el modelo final (el entrenado sobre 40 muestras). También explica como cambia el tipo de ajuste a medida que se incrementa el número de muestras del entrenamiento. Incluye también en tu análisis el grado de sesgo y de varianza para los diferentes modelos.**"
      ],
      "metadata": {
        "id": "DV6qGcvxTr4c"
      }
    },
    {
      "cell_type": "markdown",
      "source": [],
      "metadata": {
        "id": "IbFqkoC43sGR"
      }
    },
    {
      "cell_type": "markdown",
      "source": [
        "## **14. Con base en la gráfica y los datos, identifica la cantidad de muestras más adecuada para realizar el entrenamiento. Justifica tu selección.**"
      ],
      "metadata": {
        "id": "myiKwsLZTuEH"
      }
    },
    {
      "cell_type": "markdown",
      "source": [],
      "metadata": {
        "id": "eyZEFyBB-ncR"
      }
    },
    {
      "cell_type": "markdown",
      "source": [
        "## **15. Entrena un nuevo modelo utilizando esa cantidad de muestras, y calcula su error cuadrático medio sobre el subconjunto de entrenamiento (el de la cantidad de muestras seleccionadas), el de validación, y el de prueba.**"
      ],
      "metadata": {
        "id": "IB0Bx1WlTz4a"
      }
    },
    {
      "cell_type": "code",
      "source": [],
      "metadata": {
        "id": "V4ZBo42tT4Sa"
      },
      "execution_count": null,
      "outputs": []
    },
    {
      "cell_type": "markdown",
      "source": [
        "## **16. Compara los valores del punto anterior contra los errores obtenidos para la línea base (ver punto 5)**"
      ],
      "metadata": {
        "id": "ZG_awb_MT4hM"
      }
    },
    {
      "cell_type": "code",
      "source": [],
      "metadata": {
        "id": "mJQX04KGT8HE"
      },
      "execution_count": null,
      "outputs": []
    },
    {
      "cell_type": "markdown",
      "source": [
        "## **17. Argumenta cuál configuración funcionó mejor, y por qué**"
      ],
      "metadata": {
        "id": "57jyqnQKT8gk"
      }
    },
    {
      "cell_type": "code",
      "source": [],
      "metadata": {
        "id": "K-wOuvksT_i_"
      },
      "execution_count": null,
      "outputs": []
    }
  ]
}